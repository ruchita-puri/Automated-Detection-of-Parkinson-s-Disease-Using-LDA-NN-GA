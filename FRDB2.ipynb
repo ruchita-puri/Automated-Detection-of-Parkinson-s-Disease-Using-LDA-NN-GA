{
  "nbformat": 4,
  "nbformat_minor": 0,
  "metadata": {
    "colab": {
      "provenance": [],
      "mount_file_id": "1o-redD48Y3H2iu5OQtMwQ7fesM8C2F8s",
      "authorship_tag": "ABX9TyNlbEVJFvnjqmv/iWalWiRG",
      "include_colab_link": true
    },
    "kernelspec": {
      "name": "python3",
      "display_name": "Python 3"
    },
    "language_info": {
      "name": "python"
    }
  },
  "cells": [
    {
      "cell_type": "markdown",
      "metadata": {
        "id": "view-in-github",
        "colab_type": "text"
      },
      "source": [
        "<a href=\"https://colab.research.google.com/github/ruchita-puri/Automated-Detection-of-Parkinson-s-Disease-Using-LDA-NN-GA/blob/main/FRDB2.ipynb\" target=\"_parent\"><img src=\"https://colab.research.google.com/assets/colab-badge.svg\" alt=\"Open In Colab\"/></a>"
      ]
    },
    {
      "cell_type": "code",
      "execution_count": null,
      "metadata": {
        "id": "5ZTeEWPv5JDl"
      },
      "outputs": [],
      "source": [
        "import numpy\n",
        "\n",
        "import matplotlib.pyplot as plt\n",
        "\n",
        "from scipy.stats import zscore\n",
        "from sklearn import metrics\n",
        "from sklearn.model_selection import KFold\n",
        "\n",
        "\n",
        "import math\n",
        "from sklearn.metrics import accuracy_score\n",
        "\n",
        "from sklearn.linear_model import LogisticRegression\n",
        "from sklearn.tree import DecisionTreeClassifier\n",
        "from sklearn.neighbors import KNeighborsClassifier\n",
        "from sklearn.discriminant_analysis import LinearDiscriminantAnalysis as LDA\n",
        "from sklearn.naive_bayes import GaussianNB\n",
        "from sklearn.svm import SVC\n",
        "from sklearn.ensemble import RandomForestClassifier\n",
        "from sklearn.svm import LinearSVC\n",
        "from sklearn.neural_network import MLPClassifier\n",
        "from sklearn.ensemble import AdaBoostClassifier\n",
        "import warnings\n",
        "warnings.filterwarnings(\"ignore\")\n",
        "from sklearn.feature_selection import SelectKBest\n",
        "from sklearn.feature_selection import chi2\n",
        "from sklearn.model_selection import KFold\n",
        "from sklearn.neural_network import MLPClassifier\n",
        "from sklearn.svm import LinearSVC\n",
        "\n",
        "#from evolutionary_search import EvolutionaryAlgorithmSearchCV\n",
        "\n",
        "\n",
        "# fix random seed for reproducibility\n",
        "numpy.random.seed(7)\n",
        "\n",
        "global Best_Acc\n",
        "Best_Acc=0"
      ]
    },
    {
      "cell_type": "code",
      "source": [
        "#Importing the Train Data \n",
        "import pandas as pd\n",
        "df = pd.read_csv(\"/content/drive/MyDrive/Colab Notebooks/DB2_Train.csv\")\n",
        "X_first = numpy.array(df)\n",
        "X_train = numpy.delete(X_first, 22, 1)\n",
        "X_withlabels = numpy.delete(X_train, 0,1)\n",
        "print(\"X_with contains 21 input features and class label but not with patient id\", X_withlabels.shape)               \n",
        "X = numpy.delete(X_withlabels, 21, 1)\n",
        "print(\"X contains 21 input features only and there is no output label\", X.shape)\n",
        "Y = X_withlabels[: ,21]\n",
        "print(Y)"
      ],
      "metadata": {
        "colab": {
          "base_uri": "https://localhost:8080/"
        },
        "id": "nfz-aNozD3rZ",
        "outputId": "d3ab6f03-6cd6-4921-d52e-c21c9533f74b"
      },
      "execution_count": null,
      "outputs": [
        {
          "output_type": "stream",
          "name": "stdout",
          "text": [
            "X_with contains 21 input features and class label but not with patient id (156, 22)\n",
            "X contains 21 input features only and there is no output label (156, 21)\n",
            "[1 1 1 1 1 1 1 1 1 1 1 1 1 1 1 1 1 1 1 1 1 1 1 1 1 1 1 1 1 1 0 0 0 0 0 0 1\n",
            " 1 1 1 1 1 0 0 0 0 0 0 0 0 0 0 0 0 1 1 1 1 1 1 0 0 0 0 0 0 1 1 1 1 1 1 1 1\n",
            " 1 1 1 1 1 1 1 1 1 1 1 1 1 1 1 1 1 1 1 1 1 1 1 1 1 1 1 1 1 1 1 1 1 1 1 1 1\n",
            " 1 1 1 1 1 1 1 1 1 1 1 1 1 1 1 1 1 1 1 1 1 1 1 1 1 1 1 1 1 1 1 1 1 1 1 1 1\n",
            " 1 1 1 1 1 1 1 1]\n"
          ]
        }
      ]
    },
    {
      "cell_type": "code",
      "source": [
        "#Extracting Vowel \"a\" Dataset\n",
        "i=2\n",
        "indices = 0 #if you change this to 1 and increment to 7, we will get Vowel \"o\" Dataset\n",
        "increment=6\n",
        "while i<=26:\n",
        "    indices = numpy.append(indices, increment)    #Indices will hold all indices of ist three samples in each subject\n",
        "    i = i+1\n",
        "    increment = increment+6\n",
        "print(indices.shape)         #Thus we get 26x3=78 indices of 78samples. Now extract those samples from X and Y to get a new Training Set\n",
        "#print(indices)\n",
        "X_train_withlabels = X_withlabels[[indices]]\n",
        "print(X_train_withlabels.shape)\n",
        "Y_train = X_train_withlabels[:, 21]\n",
        "Y_train=Y_train.astype('int')\n",
        "X_train = numpy.delete(X_train_withlabels, 21, 1)\n",
        "print(X_train.shape)\n",
        "print(Y_train.shape)\n",
        "print(indices)\n",
        "\n",
        "X_train = numpy.delete(X_train, [0, 1, 2, 3, 8, 16, 20], 1) \n",
        "print(X_train.shape)"
      ],
      "metadata": {
        "colab": {
          "base_uri": "https://localhost:8080/"
        },
        "id": "B_-HIVqRECwJ",
        "outputId": "f40db0ee-1d50-403e-f575-f074a9760094"
      },
      "execution_count": null,
      "outputs": [
        {
          "output_type": "stream",
          "name": "stdout",
          "text": [
            "(26,)\n",
            "(26, 22)\n",
            "(26, 21)\n",
            "(26,)\n",
            "[  0   6  12  18  24  30  36  42  48  54  60  66  72  78  84  90  96 102\n",
            " 108 114 120 126 132 138 144 150]\n",
            "(26, 14)\n"
          ]
        }
      ]
    },
    {
      "cell_type": "markdown",
      "source": [
        "# Performance on Training Database using Vowel A using LDA-GA-NN. "
      ],
      "metadata": {
        "id": "rXJ6RhjPEKje"
      }
    },
    {
      "cell_type": "code",
      "source": [
        "import numpy as np\n",
        "import random\n",
        "from sklearn.model_selection import StratifiedKFold\n",
        "from sklearn.model_selection import KFold\n",
        "\n",
        "import itertools\n",
        "random.seed(1)\n",
        "\n",
        "\n",
        "X_Origionl = X_train\n",
        "y_Origionl = Y_train\n",
        "\n",
        "x = range(1,101)\n",
        "lda = LDA(n_components=1)\n",
        "X = lda.fit_transform(X_Origionl, y_Origionl)\n",
        "y = y_Origionl\n",
        "paramgrid = {\"hidden_layer_sizes\": list(itertools.combinations(x,2)),\n",
        "             \"solver\" :['adam']\n",
        "            \n",
        "             }\n",
        "print(\"Size: \", len(paramgrid))"
      ],
      "metadata": {
        "id": "xJxI-uWdEPmF",
        "colab": {
          "base_uri": "https://localhost:8080/"
        },
        "outputId": "449c39ec-b8c2-49e4-81c6-0e73b44f5a25"
      },
      "execution_count": null,
      "outputs": [
        {
          "output_type": "stream",
          "name": "stdout",
          "text": [
            "Size:  2\n"
          ]
        }
      ]
    },
    {
      "cell_type": "code",
      "source": [
        "'''\n",
        "#time_a = time.time()\n",
        "if __name__==\"__main__\":\n",
        "    #pool = Pool(4)\n",
        "    cv = EvolutionaryAlgorithmSearchCV(estimator=MLPClassifier(),\n",
        "                                       params=paramgrid,\n",
        "                                       scoring=\"accuracy\",\n",
        "                                       cv=KFold(n_splits=40),\n",
        "                                       verbose=True,\n",
        "                                       population_size=15,\n",
        "                                       gene_mutation_prob=0.10,\n",
        "                                       tournament_size=3,\n",
        "                                       generations_number=10)\n",
        "                                       #pmap = pool.map)\n",
        "    %time cv.fit(X, y)\n",
        "#time_b = time.time()\n",
        "#print(\"Time Elapsed =\", time_b-time_a)\n",
        "'''"
      ],
      "metadata": {
        "id": "C3svVUI4EXWG",
        "colab": {
          "base_uri": "https://localhost:8080/",
          "height": 140
        },
        "outputId": "671b9706-9595-4ae7-bf79-3933a9205984"
      },
      "execution_count": null,
      "outputs": [
        {
          "output_type": "execute_result",
          "data": {
            "text/plain": [
              "'\\n#time_a = time.time()\\nif __name__==\"__main__\":\\n    #pool = Pool(4)\\n    cv = EvolutionaryAlgorithmSearchCV(estimator=MLPClassifier(),\\n                                       params=paramgrid,\\n                                       scoring=\"accuracy\",\\n                                       cv=KFold(n_splits=40),\\n                                       verbose=True,\\n                                       population_size=15,\\n                                       gene_mutation_prob=0.10,\\n                                       tournament_size=3,\\n                                       generations_number=10)\\n                                       #pmap = pool.map)\\n    %time cv.fit(X, y)\\n#time_b = time.time()\\n#print(\"Time Elapsed =\", time_b-time_a)\\n'"
            ],
            "application/vnd.google.colaboratory.intrinsic+json": {
              "type": "string"
            }
          },
          "metadata": {},
          "execution_count": 5
        }
      ]
    },
    {
      "cell_type": "markdown",
      "source": [
        "# Regenerating Results Reported in Paper (Training Database, Vowel A Database)"
      ],
      "metadata": {
        "id": "tm6silEBEkPB"
      }
    },
    {
      "cell_type": "code",
      "source": [
        "#Extracting Vowel \"a\" Dataset\n",
        "i=2\n",
        "indices = 0 #if you change this to 1 and increment to 7, we will get Vowel \"o\" Dataset\n",
        "increment=6\n",
        "while i<=26:\n",
        "    indices = numpy.append(indices, increment)    #Indices will hold all indices of ist three samples in each subject\n",
        "    i = i+1\n",
        "    increment = increment+6\n",
        "print(indices.shape)         #Thus we get 26x3=78 indices of 78samples. Now extract those samples from X and Y to get a new Training Set\n",
        "#print(indices)\n",
        "X_train_withlabels = X_withlabels[[indices]]\n",
        "print(X_train_withlabels.shape)\n",
        "Y_train = X_train_withlabels[:, 21]\n",
        "Y_train=Y_train.astype('int')\n",
        "X_train = numpy.delete(X_train_withlabels, 21, 1)\n",
        "print(X_train.shape)\n",
        "print(Y_train.shape)\n",
        "print(indices)\n",
        "\n",
        "X_train = numpy.delete(X_train, [0, 1, 2, 3, 8, 16, 20], 1) \n",
        "print(X_train.shape)"
      ],
      "metadata": {
        "id": "OMdeHIG1EdPC",
        "colab": {
          "base_uri": "https://localhost:8080/"
        },
        "outputId": "5673b014-5b2c-46b2-eb59-0dc9ade7bf44"
      },
      "execution_count": null,
      "outputs": [
        {
          "output_type": "stream",
          "name": "stdout",
          "text": [
            "(26,)\n",
            "(26, 22)\n",
            "(26, 21)\n",
            "(26,)\n",
            "[  0   6  12  18  24  30  36  42  48  54  60  66  72  78  84  90  96 102\n",
            " 108 114 120 126 132 138 144 150]\n",
            "(26, 14)\n"
          ]
        }
      ]
    },
    {
      "cell_type": "code",
      "source": [
        "lda = LDA(n_components=1)\n",
        "X_FS = lda.fit_transform(X_train, Y_train)\n",
        "Y_data = Y_train\n",
        "\n"
      ],
      "metadata": {
        "id": "WbbWw6yPGqua"
      },
      "execution_count": null,
      "outputs": []
    },
    {
      "cell_type": "code",
      "source": [
        "\n",
        "i = 0\n",
        "cor_class=0\n",
        "LOSO_Acc=0\n",
        "while i<=25:\n",
        "    X_test = X_FS[[i]]\n",
        "    X_train = numpy.delete(X_FS, i, 0)\n",
        "    Y_test = Y_data[[i]]\n",
        "    Y_train = numpy.delete(Y_data, i, 0)\n",
        "    ###############For Each Selected Features, evaluate model performance by trying different nodes############\n",
        "    #model =  MLPClassifier(solver='adam', hidden_layer_sizes=(nodes1,  ), random_state=1)\n",
        "    model =  MLPClassifier(solver='adam',  hidden_layer_sizes=(2, 29, ), random_state=1)\n",
        "    model.fit(X_train, Y_train)\n",
        "    predictions = model.predict(X_test)\n",
        "    if(i<=12):\n",
        "        if predictions==1:\n",
        "            cor_class = cor_class+1\n",
        "    if(i>12):\n",
        "        if predictions==0:\n",
        "            cor_class = cor_class+1\n",
        "\n",
        "    i = i+1\n",
        "LOSO_Acc= (cor_class/26)*100\n",
        "if (LOSO_Acc>=52):\n",
        "    Best_Acc = LOSO_Acc\n",
        "print(\"Best Acc ====================================\", Best_Acc)"
      ],
      "metadata": {
        "id": "V2TN1UENE0eM",
        "colab": {
          "base_uri": "https://localhost:8080/"
        },
        "outputId": "21fe78ef-dfe6-4e0c-9b3e-49fa6db9ec5c"
      },
      "execution_count": null,
      "outputs": [
        {
          "output_type": "stream",
          "name": "stdout",
          "text": [
            "Best Acc ==================================== 0\n"
          ]
        }
      ]
    },
    {
      "cell_type": "markdown",
      "source": [
        "# Regenerating Results Reported in Paper (Testing Database, Vowel A Database)"
      ],
      "metadata": {
        "id": "nvYoDbjfE4NG"
      }
    },
    {
      "cell_type": "code",
      "source": [
        "i=2\n",
        "indices = 0\n",
        "increment = 6\n",
        "while i<=26:\n",
        "    indices = numpy.append(indices, increment)    #Indices will hold all indices of ist three samples in each subject\n",
        "    i = i+1\n",
        "    increment = increment+6\n",
        "    \n",
        "print(indices.shape)         #Thus we get 40x3=120 indices of 120samples. Now extract those samples from X and Y to get a new Training Set\n",
        "print(indices)\n",
        "X_train_withlabels = X_withlabels[indices]\n",
        "print(X_train_withlabels.shape)\n",
        "Y_train = X_train_withlabels[:, 21]\n",
        "Y_train=Y_train.astype('int')\n",
        "X_train = numpy.delete(X_train_withlabels, 21, 1)\n",
        "print(X_train.shape)\n",
        "print(Y_train.shape)\n",
        "\n",
        "X_train = numpy.delete(X_train, [0, 1, 2, 3, 8, 16, 20], 1) \n",
        "print(X_train.shape)"
      ],
      "metadata": {
        "id": "Eworw2PlE42H",
        "colab": {
          "base_uri": "https://localhost:8080/"
        },
        "outputId": "434ba679-65f4-49e1-9c01-c9eaee71e79b"
      },
      "execution_count": null,
      "outputs": [
        {
          "output_type": "stream",
          "name": "stdout",
          "text": [
            "(26,)\n",
            "[  0   6  12  18  24  30  36  42  48  54  60  66  72  78  84  90  96 102\n",
            " 108 114 120 126 132 138 144 150]\n",
            "(26, 22)\n",
            "(26, 21)\n",
            "(26,)\n",
            "(26, 14)\n"
          ]
        }
      ]
    },
    {
      "cell_type": "code",
      "source": [
        "#Importing the Test Data \n",
        "\n",
        "df = pd.read_csv(\"/content/drive/MyDrive/Colab Notebooks/DB2_Test.csv\")\n",
        "X_first = numpy.array(df)\n",
        "X_test1 = numpy.delete( X_first,22, 1)\n",
        "X_test_withlabels = numpy.delete(X_test1, 0,1)\n",
        "X_test = numpy.delete( X_test_withlabels,21, 1)\n",
        "print(\"X_with contains 21 input features and class label but not with patient id\", X_test_withlabels.shape)   \n",
        "print(X_test.shape)\n",
        "Y_test = X_test_withlabels[:, 21]\n",
        "Y_test=Y_test.astype('int')\n",
        "print(Y_test.shape)"
      ],
      "metadata": {
        "id": "fDV-V-cSFBZH",
        "colab": {
          "base_uri": "https://localhost:8080/"
        },
        "outputId": "0c7fbc8a-baa5-4a83-eb89-d3268e03d9d6"
      },
      "execution_count": null,
      "outputs": [
        {
          "output_type": "stream",
          "name": "stdout",
          "text": [
            "X_with contains 21 input features and class label but not with patient id (36, 22)\n",
            "(36, 21)\n",
            "(36,)\n"
          ]
        }
      ]
    },
    {
      "cell_type": "code",
      "source": [
        "print(X_train.shape)\n",
        "lda = LDA(n_components=1)\n",
        "X_FS_train = lda.fit_transform(X_train, Y_train)\n",
        "\n",
        "\n",
        "X_test = numpy.delete(X_test, [0, 1, 2, 3, 8, 16, 20], 1) #Removed features recommended by reviewer\n",
        "print(X_test.shape)\n",
        "\n",
        "lda = LDA(n_components=1)\n",
        "X_FS_test = lda.fit(X_train, Y_train).transform(X_test)\n",
        "\n",
        "\n",
        "\n",
        "#lda = LDA(n_components=1)\n",
        "#X_FS_test = lda.fit_transform(X_test, Y_test)\n",
        "#print(X_FS_test_usingtrain-X_FS_test)"
      ],
      "metadata": {
        "id": "cQ4NueZzFIrF",
        "colab": {
          "base_uri": "https://localhost:8080/"
        },
        "outputId": "0ee76ccc-8668-4709-aac3-709a021c1123"
      },
      "execution_count": null,
      "outputs": [
        {
          "output_type": "stream",
          "name": "stdout",
          "text": [
            "(26, 14)\n",
            "(36, 14)\n"
          ]
        }
      ]
    },
    {
      "cell_type": "code",
      "source": [
        "Net_Acc=0\n",
        "i=1\n",
        "lb=0 #Considering Vowel a only\n",
        "ub=6\n",
        "while i<=6:\n",
        "\n",
        "    #########Setting Train Test Parts for Each Subject\n",
        "    X_test_subj = X_FS_test[range(lb,ub)]\n",
        "    Y_test_subj = Y_test[range(lb,ub)]\n",
        "    #print(X_test_subj.shape)\n",
        "    #print(Y_test_subj.shape)\n",
        "\n",
        "    ##############Models Part##############################################\n",
        "    #Model Fiting\n",
        "    # checkpoint\n",
        "    ##############Models Part##############################################\n",
        "\n",
        "    model =  MLPClassifier(solver='adam',  hidden_layer_sizes=(2, 29, ), random_state=1)\n",
        "    model.fit(X_FS_train, Y_train)\n",
        "    Y_pred = model.predict(X_test_subj)\n",
        "    scores = accuracy_score(Y_test_subj, Y_pred)\n",
        "    if scores>0.5:\n",
        "        Net_Acc = Net_Acc+1\n",
        "\n",
        "\n",
        "    lb=lb+6\n",
        "    ub=lb+6\n",
        "    i = i+1\n",
        "Acc = (Net_Acc*100)/6\n",
        "#if (Acc>=60):\n",
        "    #Best_Acc = Acc\n",
        "print(\"Best Acc =\", Acc)"
      ],
      "metadata": {
        "id": "rzW_D3JpFONo",
        "colab": {
          "base_uri": "https://localhost:8080/"
        },
        "outputId": "509a814e-2d31-4cec-eb93-40df0c044709"
      },
      "execution_count": null,
      "outputs": [
        {
          "output_type": "stream",
          "name": "stdout",
          "text": [
            "Best Acc = 33.333333333333336\n"
          ]
        }
      ]
    },
    {
      "cell_type": "markdown",
      "source": [
        "# Regenerating Results for Vowel O Dataset (Considering Training Database)\n"
      ],
      "metadata": {
        "id": "4X6IV-FPFRg6"
      }
    },
    {
      "cell_type": "code",
      "source": [
        "i=2\n",
        "indices = 1\n",
        "increment = 7\n",
        "while i<=26:\n",
        "    indices = numpy.append(indices, increment)    #Indices will hold all indices of ist three samples in each subject\n",
        "    i = i+1\n",
        "    increment = increment+6\n",
        "    \n",
        "print(indices.shape)         #Thus we get 40x3=120 indices of 120samples. Now extract those samples from X and Y to get a new Training Set\n",
        "print(indices)\n",
        "X_train_withlabels = X_withlabels[indices]\n",
        "print(X_train_withlabels.shape)\n",
        "Y_train = X_train_withlabels[:, 21]\n",
        "Y_train=Y_train.astype('int')\n",
        "X_train = numpy.delete(X_train_withlabels, 21, 1)\n",
        "print(X_train.shape)\n",
        "print(Y_train.shape)\n",
        "\n",
        "X_train = numpy.delete(X_train, [0, 1, 2, 3, 8, 16, 20], 1) \n",
        "print(X_train.shape)"
      ],
      "metadata": {
        "id": "chZ4D0F0FWGi",
        "colab": {
          "base_uri": "https://localhost:8080/"
        },
        "outputId": "dcbe8ecd-b7db-4aba-bd1d-cb3caeccf89c"
      },
      "execution_count": null,
      "outputs": [
        {
          "output_type": "stream",
          "name": "stdout",
          "text": [
            "(26,)\n",
            "[  1   7  13  19  25  31  37  43  49  55  61  67  73  79  85  91  97 103\n",
            " 109 115 121 127 133 139 145 151]\n",
            "(26, 22)\n",
            "(26, 21)\n",
            "(26,)\n",
            "(26, 14)\n"
          ]
        }
      ]
    },
    {
      "cell_type": "code",
      "source": [
        "lda = LDA(n_components=1)\n",
        "X_FS = lda.fit_transform(X_train, Y_train)\n",
        "Y_data = Y_train"
      ],
      "metadata": {
        "id": "JxjNxXdaFbpo"
      },
      "execution_count": null,
      "outputs": []
    },
    {
      "cell_type": "code",
      "source": [
        "i = 0\n",
        "cor_class=0\n",
        "LOSO_Acc=0\n",
        "while i<=25:\n",
        "    X_test = X_FS[[i]]\n",
        "    X_train = numpy.delete(X_FS, i, 0)\n",
        "    Y_test = Y_data[[i]]\n",
        "    Y_train = numpy.delete(Y_data, i, 0)\n",
        "    ###############For Each Selected Features, evaluate model performance by trying different nodes############\n",
        "    #model =  MLPClassifier(solver='adam', hidden_layer_sizes=(nodes1,  ), random_state=1)\n",
        "    model =  MLPClassifier(solver='adam',  hidden_layer_sizes=(2, 29, ), random_state=1)\n",
        "    model.fit(X_train, Y_train)\n",
        "    predictions = model.predict(X_test)\n",
        "    if(i<=12):\n",
        "        if predictions==1:\n",
        "            cor_class = cor_class+1\n",
        "    if(i>12):\n",
        "        if predictions==0:\n",
        "            cor_class = cor_class+1\n",
        "\n",
        "    i = i+1\n",
        "LOSO_Acc= (cor_class/26)*100\n",
        "if (LOSO_Acc>=52):\n",
        "    Best_Acc = LOSO_Acc\n",
        "print(\"Best Acc ====================================\", Best_Acc)\n"
      ],
      "metadata": {
        "id": "kYlAzoFwFgV3",
        "colab": {
          "base_uri": "https://localhost:8080/"
        },
        "outputId": "6a3c08b1-683f-4172-f1ce-adf5d1476821"
      },
      "execution_count": null,
      "outputs": [
        {
          "output_type": "stream",
          "name": "stdout",
          "text": [
            "Best Acc ==================================== 0\n"
          ]
        }
      ]
    },
    {
      "cell_type": "markdown",
      "source": [
        "# Regenerating Results Reported in Paper (Testing Database, Vowel o Database)"
      ],
      "metadata": {
        "id": "mZySLwRrFmcM"
      }
    },
    {
      "cell_type": "code",
      "source": [
        "i=2\n",
        "indices = 1\n",
        "increment = 7\n",
        "while i<=26:\n",
        "    indices = numpy.append(indices, increment)    #Indices will hold all indices of ist three samples in each subject\n",
        "    i = i+1\n",
        "    increment = increment+6\n",
        "    \n",
        "print(indices.shape)         #Thus we get 40x3=120 indices of 120samples. Now extract those samples from X and Y to get a new Training Set\n",
        "print(indices)\n",
        "X_train_withlabels = X_withlabels[indices]\n",
        "print(X_train_withlabels.shape)\n",
        "Y_train = X_train_withlabels[:, 21]\n",
        "Y_train=Y_train.astype('int')\n",
        "X_train = numpy.delete(X_train_withlabels, 21, 1)\n",
        "print(X_train.shape)\n",
        "print(Y_train.shape)\n",
        "\n",
        "X_train = numpy.delete(X_train, [0, 1, 2, 3, 8, 16, 20], 1) \n",
        "print(X_train.shape)"
      ],
      "metadata": {
        "id": "plO7qpDFFivo",
        "colab": {
          "base_uri": "https://localhost:8080/"
        },
        "outputId": "7319311e-7ed0-4500-aae4-ba53552d47d2"
      },
      "execution_count": null,
      "outputs": [
        {
          "output_type": "stream",
          "name": "stdout",
          "text": [
            "(26,)\n",
            "[  1   7  13  19  25  31  37  43  49  55  61  67  73  79  85  91  97 103\n",
            " 109 115 121 127 133 139 145 151]\n",
            "(26, 22)\n",
            "(26, 21)\n",
            "(26,)\n",
            "(26, 14)\n"
          ]
        }
      ]
    },
    {
      "cell_type": "code",
      "source": [
        "#Importing the Test Data \n",
        "\n",
        "df = pd.read_csv(\"/content/drive/MyDrive/Colab Notebooks/DB2_Test.csv\")\n",
        "X_first = numpy.array(df)\n",
        "X_test1 = numpy.delete( X_first,22, 1)\n",
        "X_test_withlabels = numpy.delete(X_test1, 0,1)\n",
        "X_test = numpy.delete( X_test_withlabels,21, 1)\n",
        "print(\"X_with contains 21 input features and class label but not with patient id\", X_test_withlabels.shape)   \n",
        "print(X_test.shape)\n",
        "Y_test = X_test_withlabels[:, 21]\n",
        "Y_test=Y_test.astype('int')\n",
        "print(Y_test.shape)"
      ],
      "metadata": {
        "id": "IVK3jB-JFxrT",
        "colab": {
          "base_uri": "https://localhost:8080/"
        },
        "outputId": "b64f1608-476e-4d26-c6c7-6ebc5a3b5a8f"
      },
      "execution_count": null,
      "outputs": [
        {
          "output_type": "stream",
          "name": "stdout",
          "text": [
            "X_with contains 21 input features and class label but not with patient id (36, 22)\n",
            "(36, 21)\n",
            "(36,)\n"
          ]
        }
      ]
    },
    {
      "cell_type": "code",
      "source": [
        "print(X_train.shape)\n",
        "lda = LDA(n_components=1)\n",
        "X_FS_train = lda.fit_transform(X_train, Y_train)\n",
        "\n",
        "\n",
        "X_test = numpy.delete(X_test, [0, 1, 2, 3, 8, 16, 20], 1) #Removed features recommended by reviewer\n",
        "print(X_test.shape)\n",
        "\n",
        "lda = LDA(n_components=1)\n",
        "X_FS_test = lda.fit(X_train, Y_train).transform(X_test)"
      ],
      "metadata": {
        "id": "1EZwX8APF3Aj",
        "colab": {
          "base_uri": "https://localhost:8080/"
        },
        "outputId": "f4deeee9-3482-4076-a6be-3c93b487114f"
      },
      "execution_count": null,
      "outputs": [
        {
          "output_type": "stream",
          "name": "stdout",
          "text": [
            "(26, 14)\n",
            "(36, 14)\n"
          ]
        }
      ]
    },
    {
      "cell_type": "code",
      "source": [
        "Net_Acc=0\n",
        "i=1\n",
        "lb=0   ####This command is different from that of Data a. \n",
        "ub=6\n",
        "while i<=6:\n",
        "\n",
        "    #########Setting Train Test Parts for Each Subject\n",
        "    X_test_subj = X_FS_test[range(lb,ub)]\n",
        "    Y_test_subj = Y_test[range(lb,ub)]\n",
        "    #print(X_test_subj.shape)\n",
        "    #print(Y_test_subj.shape)\n",
        "\n",
        "    ##############Models Part##############################################\n",
        "    #Model Fiting\n",
        "    # checkpoint\n",
        "    ##############Models Part##############################################\n",
        "\n",
        "    #model =  MLPClassifier(solver='adam',  hidden_layer_sizes=(nodes1, nodes2, ), random_state=1)\n",
        "    model =  MLPClassifier(solver='adam', hidden_layer_sizes=(32, 29, ), random_state=1)\n",
        "    model.fit(X_FS_train, Y_train)\n",
        "    Y_pred = model.predict(X_test_subj)\n",
        "    scores = accuracy_score(Y_test_subj, Y_pred)\n",
        "    if scores>0.5:\n",
        "        Net_Acc = Net_Acc+1\n",
        "\n",
        "\n",
        "    lb=lb+6\n",
        "    ub=lb+6\n",
        "    i = i+1\n",
        "Acc = (Net_Acc*100)/6\n",
        "print(\"Best Acc =\", Acc)"
      ],
      "metadata": {
        "id": "6sA49WDuF8-m",
        "colab": {
          "base_uri": "https://localhost:8080/"
        },
        "outputId": "0ee2b8fb-e000-49cf-f6c0-67ce39c50884"
      },
      "execution_count": null,
      "outputs": [
        {
          "output_type": "stream",
          "name": "stdout",
          "text": [
            "Best Acc = 33.333333333333336\n"
          ]
        }
      ]
    }
  ]
}